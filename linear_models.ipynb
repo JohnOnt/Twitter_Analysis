{
 "cells": [
  {
   "cell_type": "code",
   "execution_count": 1,
   "source": [
    "from linear_models_functions import *"
   ],
   "outputs": [],
   "metadata": {}
  },
  {
   "cell_type": "code",
   "execution_count": 66,
   "source": [
    "features = ['Score','White Percent', 'Black Percent', 'Hispanic Percent', 'High School Diploma or Higher', \"Bachelor's Degree or higher\", 'With an Advanced Degree', 'Percent Pop of US', 'Density', 'Average Income', 'Peak Unemployment', 'COVID Cases', 'COVID Deaths', 'Population', 'COVID Cases (% of Population)']\n",
    "\n",
    "features_a = ['Score', 'Density', 'White Percent', 'Hispanic Percent', \"Bachelor's Degree or higher\", 'Average Income', 'COVID Cases (% of Population)', 'Peak Unemployment']\n",
    "\n",
    "dates = ['2020-01', '2020-02', '2020-03', '2020-04', '2020-05', '2020-06']\n",
    "dates2 = ['2020-03', '2020-04', '2020-05', '2020-06']\n",
    "\n",
    "#run_models('ALCOHOL', dates2, plot=True)\n",
    "#summarize_models_dem('DRINKING', waves, wave=True)\n",
    "#summarize_LASSO('ALCOHOL', dates2, features)\n",
    "summarize_models('LIQUOR', ['2020-06'], features_a)"
   ],
   "outputs": [
    {
     "output_type": "stream",
     "name": "stdout",
     "text": [
      "                            OLS Regression Results                            \n",
      "==============================================================================\n",
      "Dep. Variable:                      y   R-squared:                       0.328\n",
      "Model:                            OLS   Adj. R-squared:                  0.200\n",
      "Method:                 Least Squares   F-statistic:                     2.566\n",
      "Date:                Wed, 14 Jul 2021   Prob (F-statistic):             0.0224\n",
      "Time:                        16:04:39   Log-Likelihood:                 392.29\n",
      "No. Observations:                  51   AIC:                            -766.6\n",
      "Df Residuals:                      42   BIC:                            -749.2\n",
      "Df Model:                           8                                         \n",
      "Covariance Type:            nonrobust                                         \n",
      "=================================================================================================\n",
      "                                    coef    std err          t      P>|t|      [0.025      0.975]\n",
      "-------------------------------------------------------------------------------------------------\n",
      "const                            -0.0004      0.000     -1.814      0.077      -0.001    4.76e-05\n",
      "Score                          7.403e-06   2.35e-06      3.149      0.003    2.66e-06    1.21e-05\n",
      "Density                        6.303e-09   1.62e-08      0.390      0.699   -2.63e-08    3.89e-08\n",
      "White Percent                     0.0002      0.000      1.421      0.163   -9.57e-05       0.001\n",
      "Hispanic Percent                  0.0004      0.000      1.789      0.081   -5.49e-05       0.001\n",
      "Bachelor's Degree or higher    -9.66e-06   7.23e-06     -1.336      0.189   -2.42e-05    4.93e-06\n",
      "Average Income                   3.3e-09   2.66e-09      1.240      0.222   -2.07e-09    8.67e-09\n",
      "COVID Cases (% of Population)  5.528e-06   8.38e-06      0.659      0.513   -1.14e-05    2.24e-05\n",
      "Peak Unemployment              -4.89e-06      5e-06     -0.978      0.334    -1.5e-05     5.2e-06\n",
      "==============================================================================\n",
      "Omnibus:                       68.209   Durbin-Watson:                   1.776\n",
      "Prob(Omnibus):                  0.000   Jarque-Bera (JB):              689.597\n",
      "Skew:                           3.456   Prob(JB):                    1.80e-150\n",
      "Kurtosis:                      19.635   Cond. No.                     1.66e+06\n",
      "==============================================================================\n",
      "\n",
      "Notes:\n",
      "[1] Standard Errors assume that the covariance matrix of the errors is correctly specified.\n",
      "[2] The condition number is large, 1.66e+06. This might indicate that there are\n",
      "strong multicollinearity or other numerical problems.\n"
     ]
    },
    {
     "output_type": "stream",
     "name": "stderr",
     "text": [
      "/home/johnattan/.local/share/virtualenvs/CHIP-GhDHLp-X/lib/python3.8/site-packages/statsmodels/tsa/tsatools.py:142: FutureWarning: In a future version of pandas all arguments of concat except for the argument 'objs' will be keyword-only\n",
      "  x = pd.concat(x[::order], 1)\n"
     ]
    }
   ],
   "metadata": {}
  },
  {
   "cell_type": "code",
   "execution_count": null,
   "source": [],
   "outputs": [],
   "metadata": {}
  },
  {
   "cell_type": "code",
   "execution_count": null,
   "source": [],
   "outputs": [],
   "metadata": {}
  }
 ],
 "metadata": {
  "kernelspec": {
   "display_name": "CHIP",
   "language": "python",
   "name": "chip"
  },
  "language_info": {
   "name": "python",
   "version": ""
  },
  "orig_nbformat": 4
 },
 "nbformat": 4,
 "nbformat_minor": 2
}