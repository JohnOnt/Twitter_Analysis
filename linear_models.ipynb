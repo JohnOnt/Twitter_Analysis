{
 "cells": [
  {
   "cell_type": "code",
   "execution_count": 37,
   "source": [
    "import pandas as pd\n",
    "import numpy as np\n",
    "from sklearn.linear_model import LinearRegression\n",
    "import matplotlib.pyplot as plt\n",
    "import glob\n",
    "import statsmodels.api as sm"
   ],
   "outputs": [],
   "metadata": {}
  },
  {
   "cell_type": "code",
   "execution_count": 95,
   "source": [
    "policy_scores = pd.read_csv('State_Policy_Scores.csv')\n",
    "\n",
    "def get_data(kw):\n",
    "    filename = glob.glob('Train_Data/' + kw + \"*.csv\")[0]\n",
    "    df = pd.read_csv(filename, index_col=0)\n",
    "    df['Score'] = [(policy_scores.iloc[np.where(x == policy_scores.STATE)[0][0]].Score) for x in df.State]\n",
    "\n",
    "    return df\n",
    "\n",
    "def subset_date(df, date):\n",
    "    inds = [x[0:7] == date for x in df.Date]   \n",
    "    return df[inds]\n",
    "\n",
    "def subset_date_w(df, wave):\n",
    "    Wave_dates = {'1': ['2020-01', '2020-02'], '2': ['2020-03', '2020-04'], '3': ['2020-05', '2020-06']}\n",
    "    inds = [(x[0:7] == Wave_dates[wave][0] or x[0:7] == Wave_dates[wave][1]) for x in df.Date]   \n",
    "    return df[inds]\n",
    "\n",
    "#mod = sm.OLS(spector_data.endog, spector_data.exog)\n",
    "\n",
    "#In [6]: res = mod.fit()\n",
    "\n",
    "#In [7]: print(res.summary())\n",
    "\n",
    "def summarize_models(kw, dates, wave=False):\n",
    "    df = get_data(kw)\n",
    "\n",
    "    for date in dates:\n",
    "        if wave:\n",
    "            df_sub = subset_date_w(df, date)\n",
    "        else:\n",
    "            df_sub = subset_date(df, date)\n",
    "\n",
    "        X = (df_sub.Score.values).reshape(-1,1)\n",
    "        y =  df_sub.Count.values\n",
    "        X = sm.add_constant(X)\n",
    "\n",
    "        mod = sm.OLS(y, X)\n",
    "        res = mod.fit()\n",
    "        print(res.summary())\n",
    "\n",
    "\n",
    "def run_models(kw, dates, wave=False, plot = False):\n",
    "    df = get_data(kw)\n",
    "    li = []\n",
    "\n",
    "    if plot:\n",
    "        fig, axs = plt.subplots(len(dates)//3, 3, figsize = (20, 5))\n",
    "        fig.suptitle(kw + ' Tweet Volume vs State Alcohol Policy Score')\n",
    "        #fig.tight_layout()\n",
    "        fig.subplots_adjust(hspace = .7)\n",
    "        axs = axs.ravel()\n",
    "\n",
    "    for i, date in enumerate(dates):\n",
    "        if wave:\n",
    "            df_sub = subset_date_w(df, date)\n",
    "        else:\n",
    "            df_sub = subset_date(df, date)\n",
    "\n",
    "        X = (df_sub.Score.values).reshape(-1,1)\n",
    "        y =  df_sub.Count.values\n",
    "\n",
    "        reg = LinearRegression().fit(X, y)\n",
    "        li.append(pd.DataFrame({'Date': [date], 'Coef': reg.coef_, 'Score': [reg.score(X, y)]}))\n",
    "\n",
    "        if plot:\n",
    "            axs[i].scatter(X, y, c='black') \n",
    "            axs[i].plot(X, reg.predict(X))\n",
    "            axs[i].set_title(date)\n",
    "            axs[i].set(xlabel='Policy Score', ylabel='Tweet Volume')\n",
    " \n",
    "    if False:\n",
    "        if wave:\n",
    "            fig.savefig('figures/Regression/' + kw + '_waves.png')\n",
    "        else:\n",
    "            fig.savefig('figures/Regression/' + kw + '.png')\n",
    "    return pd.concat(li, axis=0, ignore_index=True)\n"
   ],
   "outputs": [],
   "metadata": {}
  },
  {
   "cell_type": "code",
   "execution_count": 100,
   "source": [
    "dates = ['2020-01', '2020-02', '2020-03', '2020-04', '2020-05', '2020-06']\n",
    "waves = ['1', '2', '3']\n",
    "\n",
    "#run_models('LIQUOR', waves, wave=True, plot=True)\n",
    "summarize_models('LIQUOR', waves, wave = True)"
   ],
   "outputs": [
    {
     "output_type": "stream",
     "name": "stdout",
     "text": [
      "                            OLS Regression Results                            \n",
      "==============================================================================\n",
      "Dep. Variable:                      y   R-squared:                       0.000\n",
      "Model:                            OLS   Adj. R-squared:                 -0.010\n",
      "Method:                 Least Squares   F-statistic:                  0.008380\n",
      "Date:                Mon, 12 Jul 2021   Prob (F-statistic):              0.927\n",
      "Time:                        16:38:25   Log-Likelihood:                 672.03\n",
      "No. Observations:                 102   AIC:                            -1340.\n",
      "Df Residuals:                     100   BIC:                            -1335.\n",
      "Df Model:                           1                                         \n",
      "Covariance Type:            nonrobust                                         \n",
      "==============================================================================\n",
      "                 coef    std err          t      P>|t|      [0.025      0.975]\n",
      "------------------------------------------------------------------------------\n",
      "const          0.0001      0.000      0.610      0.543      -0.000       0.000\n",
      "x1          3.887e-07   4.25e-06      0.092      0.927   -8.03e-06    8.81e-06\n",
      "==============================================================================\n",
      "Omnibus:                      119.183   Durbin-Watson:                   2.154\n",
      "Prob(Omnibus):                  0.000   Jarque-Bera (JB):             1701.260\n",
      "Skew:                           4.141   Prob(JB):                         0.00\n",
      "Kurtosis:                      21.213   Cond. No.                         248.\n",
      "==============================================================================\n",
      "\n",
      "Notes:\n",
      "[1] Standard Errors assume that the covariance matrix of the errors is correctly specified.\n",
      "                            OLS Regression Results                            \n",
      "==============================================================================\n",
      "Dep. Variable:                      y   R-squared:                       0.008\n",
      "Model:                            OLS   Adj. R-squared:                 -0.001\n",
      "Method:                 Least Squares   F-statistic:                    0.8519\n",
      "Date:                Mon, 12 Jul 2021   Prob (F-statistic):              0.358\n",
      "Time:                        16:38:25   Log-Likelihood:                 721.58\n",
      "No. Observations:                 102   AIC:                            -1439.\n",
      "Df Residuals:                     100   BIC:                            -1434.\n",
      "Df Model:                           1                                         \n",
      "Covariance Type:            nonrobust                                         \n",
      "==============================================================================\n",
      "                 coef    std err          t      P>|t|      [0.025      0.975]\n",
      "------------------------------------------------------------------------------\n",
      "const          0.0003      0.000      2.353      0.021    4.25e-05       0.000\n",
      "x1          2.411e-06   2.61e-06      0.923      0.358   -2.77e-06    7.59e-06\n",
      "==============================================================================\n",
      "Omnibus:                       11.304   Durbin-Watson:                   1.255\n",
      "Prob(Omnibus):                  0.004   Jarque-Bera (JB):               11.999\n",
      "Skew:                           0.832   Prob(JB):                      0.00248\n",
      "Kurtosis:                       3.239   Cond. No.                         248.\n",
      "==============================================================================\n",
      "\n",
      "Notes:\n",
      "[1] Standard Errors assume that the covariance matrix of the errors is correctly specified.\n",
      "                            OLS Regression Results                            \n",
      "==============================================================================\n",
      "Dep. Variable:                      y   R-squared:                       0.097\n",
      "Model:                            OLS   Adj. R-squared:                  0.088\n",
      "Method:                 Least Squares   F-statistic:                     10.76\n",
      "Date:                Mon, 12 Jul 2021   Prob (F-statistic):            0.00143\n",
      "Time:                        16:38:25   Log-Likelihood:                 775.14\n",
      "No. Observations:                 102   AIC:                            -1546.\n",
      "Df Residuals:                     100   BIC:                            -1541.\n",
      "Df Model:                           1                                         \n",
      "Covariance Type:            nonrobust                                         \n",
      "==============================================================================\n",
      "                 coef    std err          t      P>|t|      [0.025      0.975]\n",
      "------------------------------------------------------------------------------\n",
      "const      -6.992e-05   6.82e-05     -1.025      0.308      -0.000    6.54e-05\n",
      "x1          5.067e-06   1.55e-06      3.280      0.001       2e-06    8.13e-06\n",
      "==============================================================================\n",
      "Omnibus:                       77.254   Durbin-Watson:                   1.493\n",
      "Prob(Omnibus):                  0.000   Jarque-Bera (JB):              591.353\n",
      "Skew:                           2.398   Prob(JB):                    3.88e-129\n",
      "Kurtosis:                      13.777   Cond. No.                         248.\n",
      "==============================================================================\n",
      "\n",
      "Notes:\n",
      "[1] Standard Errors assume that the covariance matrix of the errors is correctly specified.\n"
     ]
    }
   ],
   "metadata": {}
  },
  {
   "cell_type": "code",
   "execution_count": 26,
   "source": [
    "df_beer = get_data('BEER')\n",
    "df_beer = subset_date_w(df_beer, '3')\n",
    "\n",
    "df_beer.head()\n",
    "plt.hist(df_beer.Score)\n",
    "#plt.scatter((df_beer.Count), (df_beer.Score))"
   ],
   "outputs": [
    {
     "output_type": "execute_result",
     "data": {
      "text/plain": [
       "(array([ 2., 14., 10., 18., 28., 16.,  4.,  6.,  2.,  2.]),\n",
       " array([25.6 , 29.83, 34.06, 38.29, 42.52, 46.75, 50.98, 55.21, 59.44,\n",
       "        63.67, 67.9 ]),\n",
       " <BarContainer object of 10 artists>)"
      ]
     },
     "metadata": {},
     "execution_count": 26
    },
    {
     "output_type": "display_data",
     "data": {
      "text/plain": [
       "<Figure size 432x288 with 1 Axes>"
      ],
      "image/png": "[encoded data removed]"
     },
     "metadata": {
      "needs_background": "light"
     }
    }
   ],
   "metadata": {}
  },
  {
   "cell_type": "code",
   "execution_count": 66,
   "source": [
    "df_beer = subset_date(df_beer, '2020-03')\n",
    "X = (df_beer.Score.values).reshape(-1,1)\n",
    "y = df_beer.Count.values\n",
    "\n",
    "reg = LinearRegression().fit(X, y)"
   ],
   "outputs": [],
   "metadata": {}
  },
  {
   "cell_type": "code",
   "execution_count": 67,
   "source": [
    "print(reg.score(X, y))\n",
    "print(reg.coef_)\n",
    "print(reg.intercept_)"
   ],
   "outputs": [
    {
     "output_type": "stream",
     "name": "stdout",
     "text": [
      "0.031211996685444388\n",
      "[3.87434852e-07]\n",
      "6.044437552444985e-06\n"
     ]
    }
   ],
   "metadata": {}
  },
  {
   "cell_type": "code",
   "execution_count": 60,
   "source": [
    "print(reg.score(X, y))\n",
    "print(reg.coef_)\n",
    "print(reg.intercept_)"
   ],
   "outputs": [
    {
     "output_type": "stream",
     "name": "stdout",
     "text": [
      "0.000494824196981769\n",
      "[-1.26953529e-06]\n",
      "0.0006450575514453292\n"
     ]
    }
   ],
   "metadata": {}
  },
  {
   "cell_type": "code",
   "execution_count": null,
   "source": [],
   "outputs": [],
   "metadata": {}
  }
 ],
 "metadata": {
  "kernelspec": {
   "display_name": "CHIP",
   "language": "python",
   "name": "chip"
  },
  "language_info": {
   "name": "python",
   "version": ""
  },
  "orig_nbformat": 4
 },
 "nbformat": 4,
 "nbformat_minor": 2
}