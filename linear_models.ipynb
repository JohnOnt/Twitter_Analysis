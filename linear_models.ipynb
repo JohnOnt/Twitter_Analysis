{
 "cells": [
  {
   "cell_type": "code",
   "execution_count": 1,
   "source": [
    "from linear_models_functions import *"
   ],
   "outputs": [],
   "metadata": {}
  },
  {
   "cell_type": "code",
   "execution_count": 22,
   "source": [
    "features = ['Score','White Percent', 'Black Percent', 'Hispanic Percent', 'High School Diploma or Higher', \"Bachelor's Degree or higher\", 'With an Advanced Degree', 'Percent Pop of US', 'Density', 'Average Income', 'Peak Unemployment', 'COVID Cases', 'COVID Deaths', 'Population', 'COVID Cases (% of Population)']\n",
    "\n",
    "features_a = ['Density', 'White Percent', 'Hispanic Percent', \"Bachelor's Degree or higher\", 'Median household income', 'COVID Cases (% of Population)', 'Peak Unemployment']\n",
    "\n",
    "dates = ['2020-03', '2020-04', '2020-05', '2020-06', '2020-07', '2020-08', '2020-09', '2020-10', '2020-11', '2020-12']\n",
    "\n",
    "#summarize_models('ALCOHOL', dates, [])\n",
    "\n",
    "for _ in range(len(dates)):\n",
    "    print(dates[0], dates[-1])\n",
    "    summarize_models('LIQUOR', dates, features_a)\n",
    "    dates.pop()"
   ],
   "outputs": [
    {
     "output_type": "stream",
     "name": "stdout",
     "text": [
      "2020-03 2020-12\n",
      "R2:  0.294\n",
      "[('Score', 0.0036)]\n",
      "2020-03 2020-11\n",
      "R2:  0.294\n",
      "[('Score', 0.0036)]\n",
      "2020-03 2020-10\n",
      "R2:  0.294\n",
      "[('Score', 0.0036)]\n",
      "2020-03 2020-09\n",
      "R2:  0.294\n",
      "[('Score', 0.0036)]\n",
      "2020-03 2020-08\n",
      "R2:  0.294\n",
      "[('Score', 0.0036)]\n",
      "2020-03 2020-07\n",
      "R2:  0.294\n",
      "[('Score', 0.0036)]\n",
      "2020-03 2020-06\n",
      "R2:  0.294\n",
      "[('Score', 0.0036)]\n",
      "2020-03 2020-05\n",
      "R2:  0.216\n",
      "[('const', 0.08668), ('Score', 0.05687)]\n",
      "2020-03 2020-04\n",
      "R2:  0.206\n",
      "[('const', 0.02714)]\n",
      "2020-03 2020-03\n",
      "R2:  0.306\n",
      "[('const', 0.00343), ('White Percent', 0.04561), ('Peak Unemployment', 0.04252)]\n"
     ]
    }
   ],
   "metadata": {}
  },
  {
   "cell_type": "code",
   "execution_count": null,
   "source": [],
   "outputs": [],
   "metadata": {}
  }
 ],
 "metadata": {
  "kernelspec": {
   "name": "python3",
   "display_name": "Python 3.8.10 64-bit ('CHIP-GhDHLp-X': pipenv)"
  },
  "language_info": {
   "name": "python",
   "version": "3.8.10",
   "mimetype": "text/x-python",
   "codemirror_mode": {
    "name": "ipython",
    "version": 3
   },
   "pygments_lexer": "ipython3",
   "nbconvert_exporter": "python",
   "file_extension": ".py"
  },
  "orig_nbformat": 4,
  "interpreter": {
   "hash": "626e2a56254df694da66951ee914686a83fa7aec02af6a915301422d26621dba"
  }
 },
 "nbformat": 4,
 "nbformat_minor": 2
}