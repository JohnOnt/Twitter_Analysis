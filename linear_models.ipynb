{
 "cells": [
  {
   "cell_type": "code",
   "execution_count": 1,
   "source": [
    "from linear_models_functions import *"
   ],
   "outputs": [],
   "metadata": {}
  },
  {
   "cell_type": "code",
   "execution_count": 6,
   "source": [
    "features = ['Score','White Percent', 'Black Percent', 'Hispanic Percent', 'High School Diploma or Higher', \"Bachelor's Degree or higher\", 'With an Advanced Degree', 'Percent Pop of US', 'Density', 'Average Income', 'Peak Unemployment', 'COVID Cases', 'COVID Deaths', 'Population', 'COVID Cases (% of Population)']\n",
    "dates = ['2020-01', '2020-02', '2020-03', '2020-04', '2020-05', '2020-06']\n",
    "dates2 = ['2020-05']#, '2020-04', '2020-05', '2020-06']\n",
    "\n",
    "#run_models('ALCOHOL', dates2, plot=True)\n",
    "#summarize_models_dem('DRINKING', waves, wave=True)\n",
    "summarize_LASSO('ALCOHOL', dates2, features)"
   ],
   "outputs": [
    {
     "output_type": "stream",
     "name": "stdout",
     "text": [
      "Optimal alpha:  9.085677934470695e-07\n",
      "('Score', 8.872790904903126e-07)\n",
      "('White Percent', -0.0)\n",
      "('Black Percent', -1.4463412592595841e-06)\n",
      "('Hispanic Percent', 1.3646610324457239e-05)\n",
      "('High School Diploma or Higher', -8.595815797369943e-06)\n",
      "(\"Bachelor's Degree or higher\", 1.9099588762053445e-05)\n",
      "('With an Advanced Degree', -1.3367760975380768e-05)\n",
      "('Percent Pop of US', -0.0)\n",
      "('Density', -6.365486417143341e-08)\n",
      "('Average Income', -4.286982948903888e-09)\n",
      "('Peak Unemployment', 6.978197810171601e-06)\n",
      "('COVID Cases', 3.694589957887913e-10)\n",
      "('COVID Deaths', -3.840126835295887e-10)\n",
      "('Population', -3.529068272092341e-11)\n",
      "('COVID Cases (% of Population)', -4.188951141596387e-07)\n"
     ]
    },
    {
     "output_type": "stream",
     "name": "stderr",
     "text": [
      "/home/johnattan/.local/share/virtualenvs/CHIP-GhDHLp-X/lib/python3.8/site-packages/sklearn/linear_model/_coordinate_descent.py:530: ConvergenceWarning: Objective did not converge. You might want to increase the number of iterations. Duality gap: 2.6380698345838177e-07, tolerance: 1.188165730419543e-10\n",
      "  model = cd_fast.enet_coordinate_descent(\n"
     ]
    }
   ],
   "metadata": {}
  },
  {
   "cell_type": "code",
   "execution_count": null,
   "source": [],
   "outputs": [],
   "metadata": {}
  }
 ],
 "metadata": {
  "kernelspec": {
   "display_name": "CHIP",
   "language": "python",
   "name": "chip"
  },
  "language_info": {
   "name": "python",
   "version": ""
  },
  "orig_nbformat": 4
 },
 "nbformat": 4,
 "nbformat_minor": 2
}