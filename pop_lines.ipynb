{
 "cells": [
  {
   "cell_type": "code",
   "execution_count": 5,
   "source": [
    "import pandas as pd\n",
    "import numpy as np\n",
    "import plotly.graph_objects as go\n",
    "import plotly.express as px"
   ],
   "outputs": [],
   "metadata": {}
  },
  {
   "cell_type": "code",
   "execution_count": 10,
   "source": [
    "\n",
    "state_labs = [\"AL\", \"AK\", \"AZ\", \"AR\", \"CA\", \"CO\", \"CT\", \"DC\", \"DE\", \"FL\", \"GA\", \n",
    "          \"HI\", \"ID\", \"IL\", \"IN\", \"IA\", \"KS\", \"KY\", \"LA\", \"ME\", \"MD\", \n",
    "          \"MA\", \"MI\", \"MN\", \"MS\", \"MO\", \"MT\", \"NE\", \"NV\", \"NH\", \"NJ\", \n",
    "          \"NM\", \"NY\", \"NC\", \"ND\", \"OH\", \"OK\", \"OR\", \"PA\", \"RI\", \"SC\", \n",
    "          \"SD\", \"TN\", \"TX\", \"UT\", \"VT\", \"VA\", \"WA\", \"WV\", \"WI\", \"WY\"]\n",
    "\n",
    "def fetch_data_kw(kw, dates):\n",
    "\n",
    "    li = []\n",
    "\n",
    "    for date in dates:\n",
    "        dir = '/media/johnattan/LaCie/Twitter_Terms/' + kw + '/' + date + '.csv'\n",
    "        df = pd.read_csv(dir, index_col=None, header=0)\n",
    "        li.append(df)\n",
    "\n",
    "\n",
    "    return pd.concat(li, axis=0, ignore_index=True)\n",
    "\n",
    "\n",
    "def subset_date(df, date):\n",
    "    inds = [x[0:7] == date for x in df.created_at.values]   \n",
    "    \n",
    "    return df[inds]\n",
    "\n",
    "def subset_date_waves(df, wave):\n",
    "    waves = {1:['2020-01', '2020-02'], 2:['2020-03', '2020-04'], 3:['2020-05', '2020-06']}\n",
    "\n",
    "    inds = [x[0:7] in waves[wave] for x in df.created_at.values]   \n",
    "    \n",
    "    return df[inds]\n",
    "\n",
    "#days = ['01', '02', '03', '04', '05', '06', '07', '08', '09'] + list(range(10,32))\n",
    "\n",
    "def count_tweets(df, dates):\n",
    "    counts = []\n",
    "    for date in dates:\n",
    "        tmp_df = subset_date(df, date)\n",
    "        counts.append(tmp_df.shape[0])\n",
    "\n",
    "    return counts\n",
    " \n",
    "\n",
    "def plot_lines():\n",
    "\n",
    "    dates = ['2020-01', '2020-02', '2020-03', '2020-04', '2020-05', '2020-06']\n",
    "    dates_m = ['2020-1', '2020-2', '2020-3', '2020-4', '2020-5', '2020-6']\n",
    "\n",
    "    beer_df = fetch_data_kw('BEER', dates_m)\n",
    "    wine_df = fetch_data_kw('WINE', dates_m)\n",
    "    alco_df = fetch_data_kw('ALCOHOL', dates_m)\n",
    "    drnk_df = fetch_data_kw('DRINKING', dates_m)\n",
    "    liquor_df = fetch_data_kw('LIQUOR', dates_m)\n",
    "\n",
    "\n",
    "\n",
    "    counts_beer = count_tweets(beer_df, dates)\n",
    "    counts_wine = count_tweets(wine_df, dates)\n",
    "    counts_alco = count_tweets(alco_df, dates)\n",
    "    counts_drnk = count_tweets(drnk_df, dates)\n",
    "    counts_liquor = count_tweets(liquor_df, dates)\n",
    "\n",
    "    counts_df = pd.concat([\n",
    "        pd.DataFrame({'Month' : np.arange(1,7), 'Counts' : counts_beer, 'Keyword' : 'BEER'}),\n",
    "        pd.DataFrame({'Month' : np.arange(1,7), 'Counts' : counts_wine, 'Keyword' : 'WINE'}),\n",
    "        pd.DataFrame({'Month' : np.arange(1,7), 'Counts' : counts_alco, 'Keyword' : 'ALCOHOL'}),\n",
    "        pd.DataFrame({'Month' : np.arange(1,7), 'Counts' : counts_drnk, 'Keyword' : 'DRINKING'}),\n",
    "        pd.DataFrame({'Month' : np.arange(1,7), 'Counts' : counts_liquor, 'Keyword' : 'LIQUOR'})\n",
    "    ])\n",
    "\n",
    "    #return counts_df\n",
    "    fig = px.line(counts_df, x=\"Month\", y=\"Counts\", color='Keyword', title = 'Keyword Tweet Volume Chart')\n",
    "    fig.show()\n",
    "    fig.write_image('figures/pop-lines-' + dates[0] + '--' + dates[-1] + '.png')"
   ],
   "outputs": [],
   "metadata": {}
  },
  {
   "cell_type": "code",
   "execution_count": 11,
   "source": [
    "plot_lines()"
   ],
   "outputs": [
    {
     "output_type": "display_data",
     "data": {
      "application/vnd.plotly.v1+json": {
       "config": {
        "plotlyServerURL": "https://plot.ly"
       },
       "data": [
        {
         "hovertemplate": "Keyword=BEER<br>Month=%{x}<br>Counts=%{y}<extra></extra>",
         "legendgroup": "BEER",
         "line": {
          "color": "#636efa",
          "dash": "solid"
         },
         "mode": "lines",
         "name": "BEER",
         "orientation": "v",
         "showlegend": true,
         "type": "scatter",
         "x": [
          1,
          2,
          3,
          4,
          5,
          6
         ],
         "xaxis": "x",
         "y": [
          10689,
          35856,
          45188,
          62329,
          48857,
          37726
         ],
         "yaxis": "y"
        },
        {
         "hovertemplate": "Keyword=WINE<br>Month=%{x}<br>Counts=%{y}<extra></extra>",
         "legendgroup": "WINE",
         "line": {
          "color": "#EF553B",
          "dash": "solid"
         },
         "mode": "lines",
         "name": "WINE",
         "orientation": "v",
         "showlegend": true,
         "type": "scatter",
         "x": [
          1,
          2,
          3,
          4,
          5,
          6
         ],
         "xaxis": "x",
         "y": [
          93,
          453,
          36514,
          31225,
          18430,
          57437
         ],
         "yaxis": "y"
        },
        {
         "hovertemplate": "Keyword=ALCOHOL<br>Month=%{x}<br>Counts=%{y}<extra></extra>",
         "legendgroup": "ALCOHOL",
         "line": {
          "color": "#00cc96",
          "dash": "solid"
         },
         "mode": "lines",
         "name": "ALCOHOL",
         "orientation": "v",
         "showlegend": true,
         "type": "scatter",
         "x": [
          1,
          2,
          3,
          4,
          5,
          6
         ],
         "xaxis": "x",
         "y": [
          3136,
          3039,
          77146,
          127774,
          72375,
          38166
         ],
         "yaxis": "y"
        },
        {
         "hovertemplate": "Keyword=DRINKING<br>Month=%{x}<br>Counts=%{y}<extra></extra>",
         "legendgroup": "DRINKING",
         "line": {
          "color": "#ab63fa",
          "dash": "solid"
         },
         "mode": "lines",
         "name": "DRINKING",
         "orientation": "v",
         "showlegend": true,
         "type": "scatter",
         "x": [
          1,
          2,
          3,
          4,
          5,
          6
         ],
         "xaxis": "x",
         "y": [
          4936,
          6158,
          43177,
          110979,
          36324,
          25044
         ],
         "yaxis": "y"
        },
        {
         "hovertemplate": "Keyword=LIQUOR<br>Month=%{x}<br>Counts=%{y}<extra></extra>",
         "legendgroup": "LIQUOR",
         "line": {
          "color": "#FFA15A",
          "dash": "solid"
         },
         "mode": "lines",
         "name": "LIQUOR",
         "orientation": "v",
         "showlegend": true,
         "type": "scatter",
         "x": [
          1,
          2,
          3,
          4,
          5,
          6
         ],
         "xaxis": "x",
         "y": [
          59,
          176,
          34885,
          32824,
          51557,
          5976
         ],
         "yaxis": "y"
        }
       ],
       "layout": {
        "legend": {
         "title": {
          "text": "Keyword"
         },
         "tracegroupgap": 0
        },
        "template": {
         "data": {
          "bar": [
           {
            "error_x": {
             "color": "#2a3f5f"
            },
            "error_y": {
             "color": "#2a3f5f"
            },
            "marker": {
             "line": {
              "color": "#E5ECF6",
              "width": 0.5
             },
             "pattern": {
              "fillmode": "overlay",
              "size": 10,
              "solidity": 0.2
             }
            },
            "type": "bar"
           }
          ],
          "barpolar": [
           {
            "marker": {
             "line": {
              "color": "#E5ECF6",
              "width": 0.5
             },
             "pattern": {
              "fillmode": "overlay",
              "size": 10,
              "solidity": 0.2
             }
            },
            "type": "barpolar"
           }
          ],
          "carpet": [
           {
            "aaxis": {
             "endlinecolor": "#2a3f5f",
             "gridcolor": "white",
             "linecolor": "white",
             "minorgridcolor": "white",
             "startlinecolor": "#2a3f5f"
            },
            "baxis": {
             "endlinecolor": "#2a3f5f",
             "gridcolor": "white",
             "linecolor": "white",
             "minorgridcolor": "white",
             "startlinecolor": "#2a3f5f"
            },
            "type": "carpet"
           }
          ],
          "choropleth": [
           {
            "colorbar": {
             "outlinewidth": 0,
             "ticks": ""
            },
            "type": "choropleth"
           }
          ],
          "contour": [
           {
            "colorbar": {
             "outlinewidth": 0,
             "ticks": ""
            },
            "colorscale": [
             [
              0,
              "#0d0887"
             ],
             [
              0.1111111111111111,
              "#46039f"
             ],
             [
              0.2222222222222222,
              "#7201a8"
             ],
             [
              0.3333333333333333,
              "#9c179e"
             ],
             [
              0.4444444444444444,
              "#bd3786"
             ],
             [
              0.5555555555555556,
              "#d8576b"
             ],
             [
              0.6666666666666666,
              "#ed7953"
             ],
             [
              0.7777777777777778,
              "#fb9f3a"
             ],
             [
              0.8888888888888888,
              "#fdca26"
             ],
             [
              1,
              "#f0f921"
             ]
            ],
            "type": "contour"
           }
          ],
          "contourcarpet": [
           {
            "colorbar": {
             "outlinewidth": 0,
             "ticks": ""
            },
            "type": "contourcarpet"
           }
          ],
          "heatmap": [
           {
            "colorbar": {
             "outlinewidth": 0,
             "ticks": ""
            },
            "colorscale": [
             [
              0,
              "#0d0887"
             ],
             [
              0.1111111111111111,
              "#46039f"
             ],
             [
              0.2222222222222222,
              "#7201a8"
             ],
             [
              0.3333333333333333,
              "#9c179e"
             ],
             [
              0.4444444444444444,
              "#bd3786"
             ],
             [
              0.5555555555555556,
              "#d8576b"
             ],
             [
              0.6666666666666666,
              "#ed7953"
             ],
             [
              0.7777777777777778,
              "#fb9f3a"
             ],
             [
              0.8888888888888888,
              "#fdca26"
             ],
             [
              1,
              "#f0f921"
             ]
            ],
            "type": "heatmap"
           }
          ],
          "heatmapgl": [
           {
            "colorbar": {
             "outlinewidth": 0,
             "ticks": ""
            },
            "colorscale": [
             [
              0,
              "#0d0887"
             ],
             [
              0.1111111111111111,
              "#46039f"
             ],
             [
              0.2222222222222222,
              "#7201a8"
             ],
             [
              0.3333333333333333,
              "#9c179e"
             ],
             [
              0.4444444444444444,
              "#bd3786"
             ],
             [
              0.5555555555555556,
              "#d8576b"
             ],
             [
              0.6666666666666666,
              "#ed7953"
             ],
             [
              0.7777777777777778,
              "#fb9f3a"
             ],
             [
              0.8888888888888888,
              "#fdca26"
             ],
             [
              1,
              "#f0f921"
             ]
            ],
            "type": "heatmapgl"
           }
          ],
          "histogram": [
           {
            "marker": {
             "pattern": {
              "fillmode": "overlay",
              "size": 10,
              "solidity": 0.2
             }
            },
            "type": "histogram"
           }
          ],
          "histogram2d": [
           {
            "colorbar": {
             "outlinewidth": 0,
             "ticks": ""
            },
            "colorscale": [
             [
              0,
              "#0d0887"
             ],
             [
              0.1111111111111111,
              "#46039f"
             ],
             [
              0.2222222222222222,
              "#7201a8"
             ],
             [
              0.3333333333333333,
              "#9c179e"
             ],
             [
              0.4444444444444444,
              "#bd3786"
             ],
             [
              0.5555555555555556,
              "#d8576b"
             ],
             [
              0.6666666666666666,
              "#ed7953"
             ],
             [
              0.7777777777777778,
              "#fb9f3a"
             ],
             [
              0.8888888888888888,
              "#fdca26"
             ],
             [
              1,
              "#f0f921"
             ]
            ],
            "type": "histogram2d"
           }
          ],
          "histogram2dcontour": [
           {
            "colorbar": {
             "outlinewidth": 0,
             "ticks": ""
            },
            "colorscale": [
             [
              0,
              "#0d0887"
             ],
             [
              0.1111111111111111,
              "#46039f"
             ],
             [
              0.2222222222222222,
              "#7201a8"
             ],
             [
              0.3333333333333333,
              "#9c179e"
             ],
             [
              0.4444444444444444,
              "#bd3786"
             ],
             [
              0.5555555555555556,
              "#d8576b"
             ],
             [
              0.6666666666666666,
              "#ed7953"
             ],
             [
              0.7777777777777778,
              "#fb9f3a"
             ],
             [
              0.8888888888888888,
              "#fdca26"
             ],
             [
              1,
              "#f0f921"
             ]
            ],
            "type": "histogram2dcontour"
           }
          ],
          "mesh3d": [
           {
            "colorbar": {
             "outlinewidth": 0,
             "ticks": ""
            },
            "type": "mesh3d"
           }
          ],
          "parcoords": [
           {
            "line": {
             "colorbar": {
              "outlinewidth": 0,
              "ticks": ""
             }
            },
            "type": "parcoords"
           }
          ],
          "pie": [
           {
            "automargin": true,
            "type": "pie"
           }
          ],
          "scatter": [
           {
            "marker": {
             "colorbar": {
              "outlinewidth": 0,
              "ticks": ""
             }
            },
            "type": "scatter"
           }
          ],
          "scatter3d": [
           {
            "line": {
             "colorbar": {
              "outlinewidth": 0,
              "ticks": ""
             }
            },
            "marker": {
             "colorbar": {
              "outlinewidth": 0,
              "ticks": ""
             }
            },
            "type": "scatter3d"
           }
          ],
          "scattercarpet": [
           {
            "marker": {
             "colorbar": {
              "outlinewidth": 0,
              "ticks": ""
             }
            },
            "type": "scattercarpet"
           }
          ],
          "scattergeo": [
           {
            "marker": {
             "colorbar": {
              "outlinewidth": 0,
              "ticks": ""
             }
            },
            "type": "scattergeo"
           }
          ],
          "scattergl": [
           {
            "marker": {
             "colorbar": {
              "outlinewidth": 0,
              "ticks": ""
             }
            },
            "type": "scattergl"
           }
          ],
          "scattermapbox": [
           {
            "marker": {
             "colorbar": {
              "outlinewidth": 0,
              "ticks": ""
             }
            },
            "type": "scattermapbox"
           }
          ],
          "scatterpolar": [
           {
            "marker": {
             "colorbar": {
              "outlinewidth": 0,
              "ticks": ""
             }
            },
            "type": "scatterpolar"
           }
          ],
          "scatterpolargl": [
           {
            "marker": {
             "colorbar": {
              "outlinewidth": 0,
              "ticks": ""
             }
            },
            "type": "scatterpolargl"
           }
          ],
          "scatterternary": [
           {
            "marker": {
             "colorbar": {
              "outlinewidth": 0,
              "ticks": ""
             }
            },
            "type": "scatterternary"
           }
          ],
          "surface": [
           {
            "colorbar": {
             "outlinewidth": 0,
             "ticks": ""
            },
            "colorscale": [
             [
              0,
              "#0d0887"
             ],
             [
              0.1111111111111111,
              "#46039f"
             ],
             [
              0.2222222222222222,
              "#7201a8"
             ],
             [
              0.3333333333333333,
              "#9c179e"
             ],
             [
              0.4444444444444444,
              "#bd3786"
             ],
             [
              0.5555555555555556,
              "#d8576b"
             ],
             [
              0.6666666666666666,
              "#ed7953"
             ],
             [
              0.7777777777777778,
              "#fb9f3a"
             ],
             [
              0.8888888888888888,
              "#fdca26"
             ],
             [
              1,
              "#f0f921"
             ]
            ],
            "type": "surface"
           }
          ],
          "table": [
           {
            "cells": {
             "fill": {
              "color": "#EBF0F8"
             },
             "line": {
              "color": "white"
             }
            },
            "header": {
             "fill": {
              "color": "#C8D4E3"
             },
             "line": {
              "color": "white"
             }
            },
            "type": "table"
           }
          ]
         },
         "layout": {
          "annotationdefaults": {
           "arrowcolor": "#2a3f5f",
           "arrowhead": 0,
           "arrowwidth": 1
          },
          "autotypenumbers": "strict",
          "coloraxis": {
           "colorbar": {
            "outlinewidth": 0,
            "ticks": ""
           }
          },
          "colorscale": {
           "diverging": [
            [
             0,
             "#8e0152"
            ],
            [
             0.1,
             "#c51b7d"
            ],
            [
             0.2,
             "#de77ae"
            ],
            [
             0.3,
             "#f1b6da"
            ],
            [
             0.4,
             "#fde0ef"
            ],
            [
             0.5,
             "#f7f7f7"
            ],
            [
             0.6,
             "#e6f5d0"
            ],
            [
             0.7,
             "#b8e186"
            ],
            [
             0.8,
             "#7fbc41"
            ],
            [
             0.9,
             "#4d9221"
            ],
            [
             1,
             "#276419"
            ]
           ],
           "sequential": [
            [
             0,
             "#0d0887"
            ],
            [
             0.1111111111111111,
             "#46039f"
            ],
            [
             0.2222222222222222,
             "#7201a8"
            ],
            [
             0.3333333333333333,
             "#9c179e"
            ],
            [
             0.4444444444444444,
             "#bd3786"
            ],
            [
             0.5555555555555556,
             "#d8576b"
            ],
            [
             0.6666666666666666,
             "#ed7953"
            ],
            [
             0.7777777777777778,
             "#fb9f3a"
            ],
            [
             0.8888888888888888,
             "#fdca26"
            ],
            [
             1,
             "#f0f921"
            ]
           ],
           "sequentialminus": [
            [
             0,
             "#0d0887"
            ],
            [
             0.1111111111111111,
             "#46039f"
            ],
            [
             0.2222222222222222,
             "#7201a8"
            ],
            [
             0.3333333333333333,
             "#9c179e"
            ],
            [
             0.4444444444444444,
             "#bd3786"
            ],
            [
             0.5555555555555556,
             "#d8576b"
            ],
            [
             0.6666666666666666,
             "#ed7953"
            ],
            [
             0.7777777777777778,
             "#fb9f3a"
            ],
            [
             0.8888888888888888,
             "#fdca26"
            ],
            [
             1,
             "#f0f921"
            ]
           ]
          },
          "colorway": [
           "#636efa",
           "#EF553B",
           "#00cc96",
           "#ab63fa",
           "#FFA15A",
           "#19d3f3",
           "#FF6692",
           "#B6E880",
           "#FF97FF",
           "#FECB52"
          ],
          "font": {
           "color": "#2a3f5f"
          },
          "geo": {
           "bgcolor": "white",
           "lakecolor": "white",
           "landcolor": "#E5ECF6",
           "showlakes": true,
           "showland": true,
           "subunitcolor": "white"
          },
          "hoverlabel": {
           "align": "left"
          },
          "hovermode": "closest",
          "mapbox": {
           "style": "light"
          },
          "paper_bgcolor": "white",
          "plot_bgcolor": "#E5ECF6",
          "polar": {
           "angularaxis": {
            "gridcolor": "white",
            "linecolor": "white",
            "ticks": ""
           },
           "bgcolor": "#E5ECF6",
           "radialaxis": {
            "gridcolor": "white",
            "linecolor": "white",
            "ticks": ""
           }
          },
          "scene": {
           "xaxis": {
            "backgroundcolor": "#E5ECF6",
            "gridcolor": "white",
            "gridwidth": 2,
            "linecolor": "white",
            "showbackground": true,
            "ticks": "",
            "zerolinecolor": "white"
           },
           "yaxis": {
            "backgroundcolor": "#E5ECF6",
            "gridcolor": "white",
            "gridwidth": 2,
            "linecolor": "white",
            "showbackground": true,
            "ticks": "",
            "zerolinecolor": "white"
           },
           "zaxis": {
            "backgroundcolor": "#E5ECF6",
            "gridcolor": "white",
            "gridwidth": 2,
            "linecolor": "white",
            "showbackground": true,
            "ticks": "",
            "zerolinecolor": "white"
           }
          },
          "shapedefaults": {
           "line": {
            "color": "#2a3f5f"
           }
          },
          "ternary": {
           "aaxis": {
            "gridcolor": "white",
            "linecolor": "white",
            "ticks": ""
           },
           "baxis": {
            "gridcolor": "white",
            "linecolor": "white",
            "ticks": ""
           },
           "bgcolor": "#E5ECF6",
           "caxis": {
            "gridcolor": "white",
            "linecolor": "white",
            "ticks": ""
           }
          },
          "title": {
           "x": 0.05
          },
          "xaxis": {
           "automargin": true,
           "gridcolor": "white",
           "linecolor": "white",
           "ticks": "",
           "title": {
            "standoff": 15
           },
           "zerolinecolor": "white",
           "zerolinewidth": 2
          },
          "yaxis": {
           "automargin": true,
           "gridcolor": "white",
           "linecolor": "white",
           "ticks": "",
           "title": {
            "standoff": 15
           },
           "zerolinecolor": "white",
           "zerolinewidth": 2
          }
         }
        },
        "title": {
         "text": "Keyword Tweet Volume Chart"
        },
        "xaxis": {
         "anchor": "y",
         "domain": [
          0,
          1
         ],
         "title": {
          "text": "Month"
         }
        },
        "yaxis": {
         "anchor": "x",
         "domain": [
          0,
          1
         ],
         "title": {
          "text": "Counts"
         }
        }
       }
      }
     },
     "metadata": {}
    }
   ],
   "metadata": {}
  },
  {
   "cell_type": "code",
   "execution_count": 10,
   "source": [],
   "outputs": [
    {
     "output_type": "execute_result",
     "data": {
      "text/plain": [
       "        Unnamed: 0            id  \\\n",
       "0                0  1.215929e+18   \n",
       "1                1  1.215950e+18   \n",
       "2                2  1.217793e+18   \n",
       "3                3  1.217809e+18   \n",
       "4                4  1.217843e+18   \n",
       "...            ...           ...   \n",
       "240640       37721  1.270503e+18   \n",
       "240641       37722  1.270503e+18   \n",
       "240642       37723  1.270504e+18   \n",
       "240643       37724  1.270504e+18   \n",
       "240644       37725  1.270505e+18   \n",
       "\n",
       "                                                     text  \\\n",
       "0       Yeah i don't like Corona Beer much either Chin...   \n",
       "1       @NPR I swore off Corona back in high school. A...   \n",
       "2       Not saying anti-vaxxers are all idiots but the...   \n",
       "3       A yes the virus that makes the infected believ...   \n",
       "4       Since learning of Coronavirus I no longer drin...   \n",
       "...                                                   ...   \n",
       "240640  Because who does not like a good craft beer or...   \n",
       "240641                     Ha! CORONAvirus. Like the beer   \n",
       "240642  I know we are all crazy busy, but I would love...   \n",
       "240643  Covid19 beer stash #87. Breaking out a special...   \n",
       "240644  I know we are all crazy busy, but I would love...   \n",
       "\n",
       "                       created_at  \\\n",
       "0       2020-01-11 09:31:00+00:00   \n",
       "1       2020-01-11 10:54:11+00:00   \n",
       "2       2020-01-16 12:56:04+00:00   \n",
       "3       2020-01-16 14:00:16+00:00   \n",
       "4       2020-01-16 16:17:43+00:00   \n",
       "...                           ...   \n",
       "240640  2020-06-09 23:47:20+00:00   \n",
       "240641  2020-06-09 23:48:09+00:00   \n",
       "240642  2020-06-09 23:51:44+00:00   \n",
       "240643  2020-06-09 23:53:43+00:00   \n",
       "240644  2020-06-09 23:56:19+00:00   \n",
       "\n",
       "                                                     urls  \\\n",
       "0       ['https://www.cbc.ca/news/world/china-virus-de...   \n",
       "1                                                     NaN   \n",
       "2                                                     NaN   \n",
       "3       ['https://twitter.com/CP24/status/121780824471...   \n",
       "4                                                     NaN   \n",
       "...                                                   ...   \n",
       "240640  ['https://twitter.com/i/web/status/12703235502...   \n",
       "240641                                                NaN   \n",
       "240642  ['https://twitter.com/i/web/status/12704810221...   \n",
       "240643                                                NaN   \n",
       "240644  ['https://twitter.com/i/web/status/12704810221...   \n",
       "\n",
       "           profile_location   geotag_location geotag_country  \n",
       "0                     Earth               NaN            NaN  \n",
       "1                Denver, CO               NaN            NaN  \n",
       "2          Midland, Ontario  Midland, Ontario             CA  \n",
       "3          Toronto, Ontario               NaN            NaN  \n",
       "4       Scotland, sometimes               NaN            NaN  \n",
       "...                     ...               ...            ...  \n",
       "240640          Atlanta, GA               NaN            NaN  \n",
       "240641       Reedsville, WI               NaN            NaN  \n",
       "240642          Minneapolis               NaN            NaN  \n",
       "240643         Portland, OR               NaN            NaN  \n",
       "240644      Minneapolis, MN               NaN            NaN  \n",
       "\n",
       "[240645 rows x 8 columns]"
      ],
      "text/html": [
       "<div>\n",
       "<style scoped>\n",
       "    .dataframe tbody tr th:only-of-type {\n",
       "        vertical-align: middle;\n",
       "    }\n",
       "\n",
       "    .dataframe tbody tr th {\n",
       "        vertical-align: top;\n",
       "    }\n",
       "\n",
       "    .dataframe thead th {\n",
       "        text-align: right;\n",
       "    }\n",
       "</style>\n",
       "<table border=\"1\" class=\"dataframe\">\n",
       "  <thead>\n",
       "    <tr style=\"text-align: right;\">\n",
       "      <th></th>\n",
       "      <th>Unnamed: 0</th>\n",
       "      <th>id</th>\n",
       "      <th>text</th>\n",
       "      <th>created_at</th>\n",
       "      <th>urls</th>\n",
       "      <th>profile_location</th>\n",
       "      <th>geotag_location</th>\n",
       "      <th>geotag_country</th>\n",
       "    </tr>\n",
       "  </thead>\n",
       "  <tbody>\n",
       "    <tr>\n",
       "      <th>0</th>\n",
       "      <td>0</td>\n",
       "      <td>1.215929e+18</td>\n",
       "      <td>Yeah i don't like Corona Beer much either Chin...</td>\n",
       "      <td>2020-01-11 09:31:00+00:00</td>\n",
       "      <td>['https://www.cbc.ca/news/world/china-virus-de...</td>\n",
       "      <td>Earth</td>\n",
       "      <td>NaN</td>\n",
       "      <td>NaN</td>\n",
       "    </tr>\n",
       "    <tr>\n",
       "      <th>1</th>\n",
       "      <td>1</td>\n",
       "      <td>1.215950e+18</td>\n",
       "      <td>@NPR I swore off Corona back in high school. A...</td>\n",
       "      <td>2020-01-11 10:54:11+00:00</td>\n",
       "      <td>NaN</td>\n",
       "      <td>Denver, CO</td>\n",
       "      <td>NaN</td>\n",
       "      <td>NaN</td>\n",
       "    </tr>\n",
       "    <tr>\n",
       "      <th>2</th>\n",
       "      <td>2</td>\n",
       "      <td>1.217793e+18</td>\n",
       "      <td>Not saying anti-vaxxers are all idiots but the...</td>\n",
       "      <td>2020-01-16 12:56:04+00:00</td>\n",
       "      <td>NaN</td>\n",
       "      <td>Midland, Ontario</td>\n",
       "      <td>Midland, Ontario</td>\n",
       "      <td>CA</td>\n",
       "    </tr>\n",
       "    <tr>\n",
       "      <th>3</th>\n",
       "      <td>3</td>\n",
       "      <td>1.217809e+18</td>\n",
       "      <td>A yes the virus that makes the infected believ...</td>\n",
       "      <td>2020-01-16 14:00:16+00:00</td>\n",
       "      <td>['https://twitter.com/CP24/status/121780824471...</td>\n",
       "      <td>Toronto, Ontario</td>\n",
       "      <td>NaN</td>\n",
       "      <td>NaN</td>\n",
       "    </tr>\n",
       "    <tr>\n",
       "      <th>4</th>\n",
       "      <td>4</td>\n",
       "      <td>1.217843e+18</td>\n",
       "      <td>Since learning of Coronavirus I no longer drin...</td>\n",
       "      <td>2020-01-16 16:17:43+00:00</td>\n",
       "      <td>NaN</td>\n",
       "      <td>Scotland, sometimes</td>\n",
       "      <td>NaN</td>\n",
       "      <td>NaN</td>\n",
       "    </tr>\n",
       "    <tr>\n",
       "      <th>...</th>\n",
       "      <td>...</td>\n",
       "      <td>...</td>\n",
       "      <td>...</td>\n",
       "      <td>...</td>\n",
       "      <td>...</td>\n",
       "      <td>...</td>\n",
       "      <td>...</td>\n",
       "      <td>...</td>\n",
       "    </tr>\n",
       "    <tr>\n",
       "      <th>240640</th>\n",
       "      <td>37721</td>\n",
       "      <td>1.270503e+18</td>\n",
       "      <td>Because who does not like a good craft beer or...</td>\n",
       "      <td>2020-06-09 23:47:20+00:00</td>\n",
       "      <td>['https://twitter.com/i/web/status/12703235502...</td>\n",
       "      <td>Atlanta, GA</td>\n",
       "      <td>NaN</td>\n",
       "      <td>NaN</td>\n",
       "    </tr>\n",
       "    <tr>\n",
       "      <th>240641</th>\n",
       "      <td>37722</td>\n",
       "      <td>1.270503e+18</td>\n",
       "      <td>Ha! CORONAvirus. Like the beer</td>\n",
       "      <td>2020-06-09 23:48:09+00:00</td>\n",
       "      <td>NaN</td>\n",
       "      <td>Reedsville, WI</td>\n",
       "      <td>NaN</td>\n",
       "      <td>NaN</td>\n",
       "    </tr>\n",
       "    <tr>\n",
       "      <th>240642</th>\n",
       "      <td>37723</td>\n",
       "      <td>1.270504e+18</td>\n",
       "      <td>I know we are all crazy busy, but I would love...</td>\n",
       "      <td>2020-06-09 23:51:44+00:00</td>\n",
       "      <td>['https://twitter.com/i/web/status/12704810221...</td>\n",
       "      <td>Minneapolis</td>\n",
       "      <td>NaN</td>\n",
       "      <td>NaN</td>\n",
       "    </tr>\n",
       "    <tr>\n",
       "      <th>240643</th>\n",
       "      <td>37724</td>\n",
       "      <td>1.270504e+18</td>\n",
       "      <td>Covid19 beer stash #87. Breaking out a special...</td>\n",
       "      <td>2020-06-09 23:53:43+00:00</td>\n",
       "      <td>NaN</td>\n",
       "      <td>Portland, OR</td>\n",
       "      <td>NaN</td>\n",
       "      <td>NaN</td>\n",
       "    </tr>\n",
       "    <tr>\n",
       "      <th>240644</th>\n",
       "      <td>37725</td>\n",
       "      <td>1.270505e+18</td>\n",
       "      <td>I know we are all crazy busy, but I would love...</td>\n",
       "      <td>2020-06-09 23:56:19+00:00</td>\n",
       "      <td>['https://twitter.com/i/web/status/12704810221...</td>\n",
       "      <td>Minneapolis, MN</td>\n",
       "      <td>NaN</td>\n",
       "      <td>NaN</td>\n",
       "    </tr>\n",
       "  </tbody>\n",
       "</table>\n",
       "<p>240645 rows × 8 columns</p>\n",
       "</div>"
      ]
     },
     "metadata": {},
     "execution_count": 10
    }
   ],
   "metadata": {}
  },
  {
   "cell_type": "code",
   "execution_count": null,
   "source": [],
   "outputs": [],
   "metadata": {}
  }
 ],
 "metadata": {
  "interpreter": {
   "hash": "626e2a56254df694da66951ee914686a83fa7aec02af6a915301422d26621dba"
  },
  "kernelspec": {
   "display_name": "Python 3.8.10 64-bit ('CHIP-GhDHLp-X': pipenv)",
   "name": "python3"
  },
  "language_info": {
   "codemirror_mode": {
    "name": "ipython",
    "version": 3
   },
   "file_extension": ".py",
   "mimetype": "text/x-python",
   "name": "python",
   "nbconvert_exporter": "python",
   "pygments_lexer": "ipython3",
   "version": "3.8.10"
  },
  "orig_nbformat": 4
 },
 "nbformat": 4,
 "nbformat_minor": 2
}