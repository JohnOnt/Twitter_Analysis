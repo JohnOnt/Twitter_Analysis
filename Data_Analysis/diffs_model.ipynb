{
 "cells": [
  {
   "cell_type": "markdown",
   "source": [
    "# Combine Train Data"
   ],
   "metadata": {}
  },
  {
   "cell_type": "code",
   "execution_count": 1,
   "source": [
    "import pandas as pd"
   ],
   "outputs": [],
   "metadata": {}
  },
  {
   "cell_type": "code",
   "execution_count": 5,
   "source": [
    "PolicyData = pd.read_csv('/home/johnattan/Documents/CHIP/Twitter_Analysis/Train_Data/Monthly_Policy_Dem.csv', index_col=0)\n",
    "PolicyData['Date'] = [str(x)[:7] for x in PolicyData.Date.values]\n",
    "\n",
    "PolicyData['Date'] = pd.to_datetime(PolicyData['Date'],)\n",
    "\n",
    "AlcData = pd.read_csv('/home/johnattan/Documents/CHIP/Twitter_Analysis/Build_Data/ALCOHOL-2020-01--2020-12.csv', index_col=0)\n",
    "AlcData['Date'] = pd.to_datetime(AlcData['Date'])\n",
    "\n",
    "TrainData = pd.merge(PolicyData, AlcData, on=['Date', 'State'])\n",
    "TrainData.head()"
   ],
   "outputs": [
    {
     "output_type": "execute_result",
     "data": {
      "text/plain": [
       "        Date State  BarsClosed  new_case  new_death  Unemployment     Count\n",
       "0 2020-01-01    AL         0.0        44          0           2.7  0.000306\n",
       "1 2020-02-01    AL         0.0        56          1           2.6  0.000317\n",
       "2 2020-03-01    AL         1.0      3155         48           2.6  0.000613\n",
       "3 2020-04-01    AL         1.0      6805        336          13.2  0.000718\n",
       "4 2020-05-01    AL         1.0     12061        480           7.9  0.000829"
      ],
      "text/html": [
       "<div>\n",
       "<style scoped>\n",
       "    .dataframe tbody tr th:only-of-type {\n",
       "        vertical-align: middle;\n",
       "    }\n",
       "\n",
       "    .dataframe tbody tr th {\n",
       "        vertical-align: top;\n",
       "    }\n",
       "\n",
       "    .dataframe thead th {\n",
       "        text-align: right;\n",
       "    }\n",
       "</style>\n",
       "<table border=\"1\" class=\"dataframe\">\n",
       "  <thead>\n",
       "    <tr style=\"text-align: right;\">\n",
       "      <th></th>\n",
       "      <th>Date</th>\n",
       "      <th>State</th>\n",
       "      <th>BarsClosed</th>\n",
       "      <th>new_case</th>\n",
       "      <th>new_death</th>\n",
       "      <th>Unemployment</th>\n",
       "      <th>Count</th>\n",
       "    </tr>\n",
       "  </thead>\n",
       "  <tbody>\n",
       "    <tr>\n",
       "      <th>0</th>\n",
       "      <td>2020-01-01</td>\n",
       "      <td>AL</td>\n",
       "      <td>0.0</td>\n",
       "      <td>44</td>\n",
       "      <td>0</td>\n",
       "      <td>2.7</td>\n",
       "      <td>0.000306</td>\n",
       "    </tr>\n",
       "    <tr>\n",
       "      <th>1</th>\n",
       "      <td>2020-02-01</td>\n",
       "      <td>AL</td>\n",
       "      <td>0.0</td>\n",
       "      <td>56</td>\n",
       "      <td>1</td>\n",
       "      <td>2.6</td>\n",
       "      <td>0.000317</td>\n",
       "    </tr>\n",
       "    <tr>\n",
       "      <th>2</th>\n",
       "      <td>2020-03-01</td>\n",
       "      <td>AL</td>\n",
       "      <td>1.0</td>\n",
       "      <td>3155</td>\n",
       "      <td>48</td>\n",
       "      <td>2.6</td>\n",
       "      <td>0.000613</td>\n",
       "    </tr>\n",
       "    <tr>\n",
       "      <th>3</th>\n",
       "      <td>2020-04-01</td>\n",
       "      <td>AL</td>\n",
       "      <td>1.0</td>\n",
       "      <td>6805</td>\n",
       "      <td>336</td>\n",
       "      <td>13.2</td>\n",
       "      <td>0.000718</td>\n",
       "    </tr>\n",
       "    <tr>\n",
       "      <th>4</th>\n",
       "      <td>2020-05-01</td>\n",
       "      <td>AL</td>\n",
       "      <td>1.0</td>\n",
       "      <td>12061</td>\n",
       "      <td>480</td>\n",
       "      <td>7.9</td>\n",
       "      <td>0.000829</td>\n",
       "    </tr>\n",
       "  </tbody>\n",
       "</table>\n",
       "</div>"
      ]
     },
     "metadata": {},
     "execution_count": 5
    }
   ],
   "metadata": {}
  },
  {
   "cell_type": "code",
   "execution_count": 14,
   "source": [
    "li = []\n",
    "\n",
    "for state in TrainData.State.unique():\n",
    "    tempDF = TrainData[TrainData.State == state][['new_case', 'new_death', 'Unemployment', 'Count']]\n",
    "    li.append(tempDF.diff().iloc[2:])\n",
    "\n",
    "TrainDiffs = pd.concat(li, axis=0, ignore_index=True)\n",
    "TrainDiffs.head()"
   ],
   "outputs": [
    {
     "output_type": "execute_result",
     "data": {
      "text/plain": [
       "   new_case  new_death  Unemployment     Count\n",
       "0    3099.0       47.0           0.0  0.000296\n",
       "1    3650.0      288.0          10.6  0.000104\n",
       "2    5256.0      144.0          -5.3  0.000112\n",
       "3   13541.0       -3.0          -0.2 -0.000171\n",
       "4   31561.0      483.0          -0.3  0.000282"
      ],
      "text/html": [
       "<div>\n",
       "<style scoped>\n",
       "    .dataframe tbody tr th:only-of-type {\n",
       "        vertical-align: middle;\n",
       "    }\n",
       "\n",
       "    .dataframe tbody tr th {\n",
       "        vertical-align: top;\n",
       "    }\n",
       "\n",
       "    .dataframe thead th {\n",
       "        text-align: right;\n",
       "    }\n",
       "</style>\n",
       "<table border=\"1\" class=\"dataframe\">\n",
       "  <thead>\n",
       "    <tr style=\"text-align: right;\">\n",
       "      <th></th>\n",
       "      <th>new_case</th>\n",
       "      <th>new_death</th>\n",
       "      <th>Unemployment</th>\n",
       "      <th>Count</th>\n",
       "    </tr>\n",
       "  </thead>\n",
       "  <tbody>\n",
       "    <tr>\n",
       "      <th>0</th>\n",
       "      <td>3099.0</td>\n",
       "      <td>47.0</td>\n",
       "      <td>0.0</td>\n",
       "      <td>0.000296</td>\n",
       "    </tr>\n",
       "    <tr>\n",
       "      <th>1</th>\n",
       "      <td>3650.0</td>\n",
       "      <td>288.0</td>\n",
       "      <td>10.6</td>\n",
       "      <td>0.000104</td>\n",
       "    </tr>\n",
       "    <tr>\n",
       "      <th>2</th>\n",
       "      <td>5256.0</td>\n",
       "      <td>144.0</td>\n",
       "      <td>-5.3</td>\n",
       "      <td>0.000112</td>\n",
       "    </tr>\n",
       "    <tr>\n",
       "      <th>3</th>\n",
       "      <td>13541.0</td>\n",
       "      <td>-3.0</td>\n",
       "      <td>-0.2</td>\n",
       "      <td>-0.000171</td>\n",
       "    </tr>\n",
       "    <tr>\n",
       "      <th>4</th>\n",
       "      <td>31561.0</td>\n",
       "      <td>483.0</td>\n",
       "      <td>-0.3</td>\n",
       "      <td>0.000282</td>\n",
       "    </tr>\n",
       "  </tbody>\n",
       "</table>\n",
       "</div>"
      ]
     },
     "metadata": {},
     "execution_count": 14
    }
   ],
   "metadata": {}
  },
  {
   "cell_type": "markdown",
   "source": [
    "# Model Building"
   ],
   "metadata": {}
  },
  {
   "cell_type": "code",
   "execution_count": null,
   "source": [],
   "outputs": [],
   "metadata": {}
  }
 ],
 "metadata": {
  "orig_nbformat": 4,
  "language_info": {
   "name": "python",
   "version": "3.8.10",
   "mimetype": "text/x-python",
   "codemirror_mode": {
    "name": "ipython",
    "version": 3
   },
   "pygments_lexer": "ipython3",
   "nbconvert_exporter": "python",
   "file_extension": ".py"
  },
  "kernelspec": {
   "name": "python3",
   "display_name": "Python 3.8.10 64-bit ('CHIP-GhDHLp-X': pipenv)"
  },
  "interpreter": {
   "hash": "626e2a56254df694da66951ee914686a83fa7aec02af6a915301422d26621dba"
  }
 },
 "nbformat": 4,
 "nbformat_minor": 2
}