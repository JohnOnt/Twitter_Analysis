{
 "cells": [
  {
   "cell_type": "code",
   "execution_count": 1,
   "source": [
    "import pandas as pd\n",
    "import numpy as np\n",
    "from datetime import datetime"
   ],
   "outputs": [],
   "metadata": {}
  },
  {
   "cell_type": "markdown",
   "source": [
    "# Distancing Policy"
   ],
   "metadata": {}
  },
  {
   "cell_type": "code",
   "execution_count": 2,
   "source": [
    "df = pd.read_csv(\"USstatesCov19distancingpolicy.csv\", encoding='latin1')\n",
    "\n",
    "cols = ['StatePostal', 'StateName', 'StatePolicy','StateWide', 'VaccineExempt', 'PolicyCodingNotes', \n",
    "        'PolicySource', 'LastUpdated', 'LastUpdatedNotes', 'ReReviewed']\n",
    "\n",
    "bar_df = df[(df.StatePolicy == 'BarRestrict') & (df.StateWide == 1)]\n",
    "bar_df = bar_df[bar_df.DateIssued.values < 20210000]\n",
    "\n",
    "bar_df.at[(bar_df.DateEnded.values > 20210000) & ~(np.isnan(bar_df.DateEnded.values)), 'DateEnded'] = 20201231\n",
    "bar_df.at[(bar_df.DateEased.values > 20210000) & ~(np.isnan(bar_df.DateEased.values)), 'DateEased'] = 20201231\n",
    "bar_df.at[(bar_df.DateExpiry.values > 20210000) & ~(np.isnan(bar_df.DateExpiry.values)), 'DateExpiry'] = 20201231\n",
    "\n",
    "Enacted_month = []\n",
    "Enacted_day = []\n",
    "Ended_month = []\n",
    "Ended_day = []\n",
    "\n",
    "for i in range(bar_df.shape[0]):\n",
    "    row = bar_df.iloc[i]\n",
    "\n",
    "    if np.isnan(row.DateEnacted):\n",
    "        Enacted_month.append(int(str(row.DateIssued)[4:6])) \n",
    "        Enacted_day.append(int(str(row.DateIssued)[6:8])) \n",
    "\n",
    "    else:\n",
    "        Enacted_month.append(int(str(row.DateEnacted)[4:6])) \n",
    "        Enacted_day.append(int(str(row.DateEnacted)[6:8])) \n",
    "\n",
    "    if np.isnan(row.DateEnded):\n",
    "        if np.isnan(row.DateEased):\n",
    "\n",
    "            if np.isnan(row.DateExpiry):\n",
    "                Ended_month.append(row.DateExpiry) \n",
    "                Ended_day.append(row.DateExpiry) \n",
    "            else:\n",
    "                Ended_month.append(int(str(row.DateExpiry)[4:6])) \n",
    "                Ended_day.append(int(str(row.DateExpiry)[6:8])) \n",
    "\n",
    "        else:\n",
    "            Ended_month.append(int(str(row.DateEased)[4:6])) \n",
    "            Ended_day.append(int(str(row.DateEased)[6:8])) \n",
    "\n",
    "    else:\n",
    "        Ended_month.append(int(str(row.DateEnded)[4:6])) \n",
    "        Ended_day.append(int(str(row.DateEnded)[6:8])) \n",
    "\n",
    "bar_df = bar_df[cols]\n",
    "\n",
    "bar_df['EnactedMonth'] = Enacted_month\n",
    "bar_df['EnactedDay'] = Enacted_day\n",
    "bar_df['EndedMonth'] = Ended_month\n",
    "bar_df['EndedDay'] = Ended_day\n",
    "\n",
    "bar_df = bar_df.dropna(subset=['EnactedMonth', 'EndedMonth'])"
   ],
   "outputs": [],
   "metadata": {}
  },
  {
   "cell_type": "code",
   "execution_count": 3,
   "source": [
    "state_labs = np.array([\"AL\", \"AK\", \"AZ\", \"AR\", \"CA\", \"CO\", \"CT\", \"DC\", \"DE\", \"FL\", \"GA\", \n",
    "          \"HI\", \"ID\", \"IL\", \"IN\", \"IA\", \"KS\", \"KY\", \"LA\", \"ME\", \"MD\", \n",
    "          \"MA\", \"MI\", \"MN\", \"MS\", \"MO\", \"MT\", \"NE\", \"NV\", \"NH\", \"NJ\", \n",
    "          \"NM\", \"NY\", \"NC\", \"ND\", \"OH\", \"OK\", \"OR\", \"PA\", \"RI\", \"SC\", \n",
    "          \"SD\", \"TN\", \"TX\", \"UT\", \"VT\", \"VA\", \"WA\", \"WV\", \"WI\", \"WY\"])\n",
    "\n",
    "li = []\n",
    "\n",
    "for state in state_labs: \n",
    "    ons = np.zeros(12)\n",
    "    inds = []\n",
    "\n",
    "    tmpDF = bar_df[bar_df.StatePostal == state]\n",
    "\n",
    "\n",
    "    for i in range(tmpDF.shape[0]):\n",
    "        row = tmpDF.iloc[i]\n",
    "        inds = inds + list(np.arange(row.EnactedMonth - 1, row.EndedMonth))\n",
    "\n",
    "    inds = np.array(list(set(inds)))\n",
    "    inds = inds.astype('int')\n",
    "\n",
    "    ons[inds] = 1\n",
    "\n",
    "    dates = pd.date_range(start='2020-01', end='2021-01', freq='M')\n",
    "\n",
    "    li.append(pd.DataFrame({'Date': dates,\n",
    "                            'State': state,\n",
    "                            'BarsClosed': ons}))\n",
    "\n",
    "\n",
    "state_bar_closures = pd.concat(li, axis=0, ignore_index=True)\n",
    "\n",
    "state_bar_closures.head()"
   ],
   "outputs": [
    {
     "output_type": "execute_result",
     "data": {
      "text/plain": [
       "        Date State  BarsClosed\n",
       "0 2020-01-31    AL         0.0\n",
       "1 2020-02-29    AL         0.0\n",
       "2 2020-03-31    AL         1.0\n",
       "3 2020-04-30    AL         1.0\n",
       "4 2020-05-31    AL         1.0"
      ],
      "text/html": [
       "<div>\n",
       "<style scoped>\n",
       "    .dataframe tbody tr th:only-of-type {\n",
       "        vertical-align: middle;\n",
       "    }\n",
       "\n",
       "    .dataframe tbody tr th {\n",
       "        vertical-align: top;\n",
       "    }\n",
       "\n",
       "    .dataframe thead th {\n",
       "        text-align: right;\n",
       "    }\n",
       "</style>\n",
       "<table border=\"1\" class=\"dataframe\">\n",
       "  <thead>\n",
       "    <tr style=\"text-align: right;\">\n",
       "      <th></th>\n",
       "      <th>Date</th>\n",
       "      <th>State</th>\n",
       "      <th>BarsClosed</th>\n",
       "    </tr>\n",
       "  </thead>\n",
       "  <tbody>\n",
       "    <tr>\n",
       "      <th>0</th>\n",
       "      <td>2020-01-31</td>\n",
       "      <td>AL</td>\n",
       "      <td>0.0</td>\n",
       "    </tr>\n",
       "    <tr>\n",
       "      <th>1</th>\n",
       "      <td>2020-02-29</td>\n",
       "      <td>AL</td>\n",
       "      <td>0.0</td>\n",
       "    </tr>\n",
       "    <tr>\n",
       "      <th>2</th>\n",
       "      <td>2020-03-31</td>\n",
       "      <td>AL</td>\n",
       "      <td>1.0</td>\n",
       "    </tr>\n",
       "    <tr>\n",
       "      <th>3</th>\n",
       "      <td>2020-04-30</td>\n",
       "      <td>AL</td>\n",
       "      <td>1.0</td>\n",
       "    </tr>\n",
       "    <tr>\n",
       "      <th>4</th>\n",
       "      <td>2020-05-31</td>\n",
       "      <td>AL</td>\n",
       "      <td>1.0</td>\n",
       "    </tr>\n",
       "  </tbody>\n",
       "</table>\n",
       "</div>"
      ]
     },
     "metadata": {},
     "execution_count": 3
    }
   ],
   "metadata": {}
  },
  {
   "cell_type": "markdown",
   "source": [
    "# Covid Cases and Deaths Stats"
   ],
   "metadata": {}
  },
  {
   "cell_type": "code",
   "execution_count": 4,
   "source": [
    "Covid_df = pd.read_csv('United_States_COVID-19_Cases_and_Deaths_by_State_over_Time.csv')\n",
    "Covid_df['submission_date'] =  pd.to_datetime(Covid_df['submission_date'])\n",
    "Covid_df.index = Covid_df.submission_date.values\n",
    "\n",
    "li = []\n",
    "\n",
    "for state in state_labs:\n",
    "    tmpDF = Covid_df[(Covid_df.state == state) & (Covid_df.submission_date < '2021-01-01')]#.sort_values(by='submission_date')\n",
    "    tmpDF = tmpDF.groupby(pd.Grouper(freq='M')).sum()\n",
    "    tmpDF['Date'] = tmpDF.index.values\n",
    "    tmpDF['State'] = state\n",
    "    li.append(tmpDF[['Date', 'State', 'new_case', 'new_death']])\n",
    "\n",
    "Covid_State_df = pd.concat(li, axis=0, ignore_index=True)"
   ],
   "outputs": [],
   "metadata": {}
  },
  {
   "cell_type": "code",
   "execution_count": 5,
   "source": [
    "Covid_State_df.head()"
   ],
   "outputs": [
    {
     "output_type": "execute_result",
     "data": {
      "text/plain": [
       "        Date State  new_case  new_death\n",
       "0 2020-01-31    AL        44          0\n",
       "1 2020-02-29    AL        56          1\n",
       "2 2020-03-31    AL      3155         48\n",
       "3 2020-04-30    AL      6805        336\n",
       "4 2020-05-31    AL     12061        480"
      ],
      "text/html": [
       "<div>\n",
       "<style scoped>\n",
       "    .dataframe tbody tr th:only-of-type {\n",
       "        vertical-align: middle;\n",
       "    }\n",
       "\n",
       "    .dataframe tbody tr th {\n",
       "        vertical-align: top;\n",
       "    }\n",
       "\n",
       "    .dataframe thead th {\n",
       "        text-align: right;\n",
       "    }\n",
       "</style>\n",
       "<table border=\"1\" class=\"dataframe\">\n",
       "  <thead>\n",
       "    <tr style=\"text-align: right;\">\n",
       "      <th></th>\n",
       "      <th>Date</th>\n",
       "      <th>State</th>\n",
       "      <th>new_case</th>\n",
       "      <th>new_death</th>\n",
       "    </tr>\n",
       "  </thead>\n",
       "  <tbody>\n",
       "    <tr>\n",
       "      <th>0</th>\n",
       "      <td>2020-01-31</td>\n",
       "      <td>AL</td>\n",
       "      <td>44</td>\n",
       "      <td>0</td>\n",
       "    </tr>\n",
       "    <tr>\n",
       "      <th>1</th>\n",
       "      <td>2020-02-29</td>\n",
       "      <td>AL</td>\n",
       "      <td>56</td>\n",
       "      <td>1</td>\n",
       "    </tr>\n",
       "    <tr>\n",
       "      <th>2</th>\n",
       "      <td>2020-03-31</td>\n",
       "      <td>AL</td>\n",
       "      <td>3155</td>\n",
       "      <td>48</td>\n",
       "    </tr>\n",
       "    <tr>\n",
       "      <th>3</th>\n",
       "      <td>2020-04-30</td>\n",
       "      <td>AL</td>\n",
       "      <td>6805</td>\n",
       "      <td>336</td>\n",
       "    </tr>\n",
       "    <tr>\n",
       "      <th>4</th>\n",
       "      <td>2020-05-31</td>\n",
       "      <td>AL</td>\n",
       "      <td>12061</td>\n",
       "      <td>480</td>\n",
       "    </tr>\n",
       "  </tbody>\n",
       "</table>\n",
       "</div>"
      ]
     },
     "metadata": {},
     "execution_count": 5
    }
   ],
   "metadata": {}
  },
  {
   "cell_type": "markdown",
   "source": [
    "# Unemployment Data"
   ],
   "metadata": {}
  },
  {
   "cell_type": "code",
   "execution_count": 6,
   "source": [
    "U_df = pd.read_csv('Unemployment_Data.csv')\n",
    "U_df.index = U_df.State.values\n",
    "U_df = U_df.iloc[:-1, -18:-6]"
   ],
   "outputs": [],
   "metadata": {}
  },
  {
   "cell_type": "code",
   "execution_count": 7,
   "source": [
    "li = []\n",
    "\n",
    "for state in state_labs:\n",
    "\n",
    "    dates = pd.date_range(start='2020-01', end='2021-01', freq='M')\n",
    "\n",
    "    li.append(pd.DataFrame({'Date': dates,\n",
    "                            'State': state,\n",
    "                            'Unemployment': U_df.loc[state].values}))\n",
    "\n",
    "Unemployment_df = pd.concat(li, axis=0, ignore_index=True)"
   ],
   "outputs": [],
   "metadata": {}
  },
  {
   "cell_type": "code",
   "execution_count": 8,
   "source": [
    "Unemployment_df.head()"
   ],
   "outputs": [
    {
     "output_type": "execute_result",
     "data": {
      "text/plain": [
       "        Date State Unemployment\n",
       "0 2020-01-31    AL          2.7\n",
       "1 2020-02-29    AL          2.6\n",
       "2 2020-03-31    AL          2.6\n",
       "3 2020-04-30    AL         13.2\n",
       "4 2020-05-31    AL          7.9"
      ],
      "text/html": [
       "<div>\n",
       "<style scoped>\n",
       "    .dataframe tbody tr th:only-of-type {\n",
       "        vertical-align: middle;\n",
       "    }\n",
       "\n",
       "    .dataframe tbody tr th {\n",
       "        vertical-align: top;\n",
       "    }\n",
       "\n",
       "    .dataframe thead th {\n",
       "        text-align: right;\n",
       "    }\n",
       "</style>\n",
       "<table border=\"1\" class=\"dataframe\">\n",
       "  <thead>\n",
       "    <tr style=\"text-align: right;\">\n",
       "      <th></th>\n",
       "      <th>Date</th>\n",
       "      <th>State</th>\n",
       "      <th>Unemployment</th>\n",
       "    </tr>\n",
       "  </thead>\n",
       "  <tbody>\n",
       "    <tr>\n",
       "      <th>0</th>\n",
       "      <td>2020-01-31</td>\n",
       "      <td>AL</td>\n",
       "      <td>2.7</td>\n",
       "    </tr>\n",
       "    <tr>\n",
       "      <th>1</th>\n",
       "      <td>2020-02-29</td>\n",
       "      <td>AL</td>\n",
       "      <td>2.6</td>\n",
       "    </tr>\n",
       "    <tr>\n",
       "      <th>2</th>\n",
       "      <td>2020-03-31</td>\n",
       "      <td>AL</td>\n",
       "      <td>2.6</td>\n",
       "    </tr>\n",
       "    <tr>\n",
       "      <th>3</th>\n",
       "      <td>2020-04-30</td>\n",
       "      <td>AL</td>\n",
       "      <td>13.2</td>\n",
       "    </tr>\n",
       "    <tr>\n",
       "      <th>4</th>\n",
       "      <td>2020-05-31</td>\n",
       "      <td>AL</td>\n",
       "      <td>7.9</td>\n",
       "    </tr>\n",
       "  </tbody>\n",
       "</table>\n",
       "</div>"
      ]
     },
     "metadata": {},
     "execution_count": 8
    }
   ],
   "metadata": {}
  },
  {
   "cell_type": "markdown",
   "source": [
    "# Sandwich them together"
   ],
   "metadata": {}
  },
  {
   "cell_type": "code",
   "execution_count": 9,
   "source": [
    "print(state_bar_closures.shape)\n",
    "print(Covid_State_df.shape)\n",
    "print(Unemployment_df.shape)"
   ],
   "outputs": [
    {
     "output_type": "stream",
     "name": "stdout",
     "text": [
      "(612, 3)\n",
      "(612, 4)\n",
      "(612, 3)\n"
     ]
    }
   ],
   "metadata": {}
  },
  {
   "cell_type": "code",
   "execution_count": 10,
   "source": [
    "State_PD = pd.merge(state_bar_closures, Covid_State_df, on=['Date', 'State'])\n",
    "State_PD = pd.merge(State_PD, Unemployment_df, on = ['Date', 'State'])"
   ],
   "outputs": [],
   "metadata": {}
  },
  {
   "cell_type": "code",
   "execution_count": 11,
   "source": [
    "print(State_PD.shape)\n",
    "State_PD.head()"
   ],
   "outputs": [
    {
     "output_type": "stream",
     "name": "stdout",
     "text": [
      "(612, 6)\n"
     ]
    },
    {
     "output_type": "execute_result",
     "data": {
      "text/plain": [
       "        Date State  BarsClosed  new_case  new_death Unemployment\n",
       "0 2020-01-31    AL         0.0        44          0          2.7\n",
       "1 2020-02-29    AL         0.0        56          1          2.6\n",
       "2 2020-03-31    AL         1.0      3155         48          2.6\n",
       "3 2020-04-30    AL         1.0      6805        336         13.2\n",
       "4 2020-05-31    AL         1.0     12061        480          7.9"
      ],
      "text/html": [
       "<div>\n",
       "<style scoped>\n",
       "    .dataframe tbody tr th:only-of-type {\n",
       "        vertical-align: middle;\n",
       "    }\n",
       "\n",
       "    .dataframe tbody tr th {\n",
       "        vertical-align: top;\n",
       "    }\n",
       "\n",
       "    .dataframe thead th {\n",
       "        text-align: right;\n",
       "    }\n",
       "</style>\n",
       "<table border=\"1\" class=\"dataframe\">\n",
       "  <thead>\n",
       "    <tr style=\"text-align: right;\">\n",
       "      <th></th>\n",
       "      <th>Date</th>\n",
       "      <th>State</th>\n",
       "      <th>BarsClosed</th>\n",
       "      <th>new_case</th>\n",
       "      <th>new_death</th>\n",
       "      <th>Unemployment</th>\n",
       "    </tr>\n",
       "  </thead>\n",
       "  <tbody>\n",
       "    <tr>\n",
       "      <th>0</th>\n",
       "      <td>2020-01-31</td>\n",
       "      <td>AL</td>\n",
       "      <td>0.0</td>\n",
       "      <td>44</td>\n",
       "      <td>0</td>\n",
       "      <td>2.7</td>\n",
       "    </tr>\n",
       "    <tr>\n",
       "      <th>1</th>\n",
       "      <td>2020-02-29</td>\n",
       "      <td>AL</td>\n",
       "      <td>0.0</td>\n",
       "      <td>56</td>\n",
       "      <td>1</td>\n",
       "      <td>2.6</td>\n",
       "    </tr>\n",
       "    <tr>\n",
       "      <th>2</th>\n",
       "      <td>2020-03-31</td>\n",
       "      <td>AL</td>\n",
       "      <td>1.0</td>\n",
       "      <td>3155</td>\n",
       "      <td>48</td>\n",
       "      <td>2.6</td>\n",
       "    </tr>\n",
       "    <tr>\n",
       "      <th>3</th>\n",
       "      <td>2020-04-30</td>\n",
       "      <td>AL</td>\n",
       "      <td>1.0</td>\n",
       "      <td>6805</td>\n",
       "      <td>336</td>\n",
       "      <td>13.2</td>\n",
       "    </tr>\n",
       "    <tr>\n",
       "      <th>4</th>\n",
       "      <td>2020-05-31</td>\n",
       "      <td>AL</td>\n",
       "      <td>1.0</td>\n",
       "      <td>12061</td>\n",
       "      <td>480</td>\n",
       "      <td>7.9</td>\n",
       "    </tr>\n",
       "  </tbody>\n",
       "</table>\n",
       "</div>"
      ]
     },
     "metadata": {},
     "execution_count": 11
    }
   ],
   "metadata": {}
  },
  {
   "cell_type": "code",
   "execution_count": 12,
   "source": [
    "State_PD.to_csv('/home/johnattan/Documents/CHIP/Twitter_Analysis/Train_Data/Monthly_Policy_Dem.csv')"
   ],
   "outputs": [],
   "metadata": {}
  },
  {
   "cell_type": "code",
   "execution_count": null,
   "source": [],
   "outputs": [],
   "metadata": {}
  }
 ],
 "metadata": {
  "orig_nbformat": 4,
  "language_info": {
   "name": "python",
   "version": "3.8.10",
   "mimetype": "text/x-python",
   "codemirror_mode": {
    "name": "ipython",
    "version": 3
   },
   "pygments_lexer": "ipython3",
   "nbconvert_exporter": "python",
   "file_extension": ".py"
  },
  "kernelspec": {
   "name": "python3",
   "display_name": "Python 3.8.10 64-bit ('CHIP-GhDHLp-X': pipenv)"
  },
  "interpreter": {
   "hash": "626e2a56254df694da66951ee914686a83fa7aec02af6a915301422d26621dba"
  }
 },
 "nbformat": 4,
 "nbformat_minor": 2
}